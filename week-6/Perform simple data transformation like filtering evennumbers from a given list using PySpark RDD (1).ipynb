{
 "cells": [
  {
   "cell_type": "markdown",
   "id": "b5e5e186-c3e1-4135-998e-c591e55319de",
   "metadata": {},
   "source": [
    "Perform simple data transformation like filtering evennumbers from a given list using PySpark RDD "
   ]
  },
  {
   "cell_type": "code",
   "execution_count": 1,
   "id": "a9b3c957-d7b7-41c4-93bb-9c6e304d1d41",
   "metadata": {},
   "outputs": [
    {
     "data": {
      "text/html": [
       "\n",
       "        <div>\n",
       "            <p><b>SparkContext</b></p>\n",
       "\n",
       "            <p><a href=\"http://DESKTOP-VKDMLML:4044\">Spark UI</a></p>\n",
       "\n",
       "            <dl>\n",
       "              <dt>Version</dt>\n",
       "                <dd><code>v4.0.1</code></dd>\n",
       "              <dt>Master</dt>\n",
       "                <dd><code>local[*]</code></dd>\n",
       "              <dt>AppName</dt>\n",
       "                <dd><code>PySparkShell</code></dd>\n",
       "            </dl>\n",
       "        </div>\n",
       "        "
      ],
      "text/plain": [
       "<SparkContext master=local[*] appName=PySparkShell>"
      ]
     },
     "execution_count": 1,
     "metadata": {},
     "output_type": "execute_result"
    }
   ],
   "source": [
    "sc"
   ]
  },
  {
   "cell_type": "code",
   "execution_count": 9,
   "id": "9074c24f-c016-4e75-93b2-f7196e71b694",
   "metadata": {},
   "outputs": [],
   "source": [
    "import random"
   ]
  },
  {
   "cell_type": "code",
   "execution_count": 10,
   "id": "e8b3daf3-1069-422b-8002-8e6b4e4c394c",
   "metadata": {},
   "outputs": [
    {
     "name": "stdout",
     "output_type": "stream",
     "text": [
      "Original List:\n",
      "[730, 962, 263, 794, 183, 631, 558, 350, 824, 86, 991, 746, 139, 819, 299, 364, 37, 799, 210, 453, 824, 498, 758, 621, 449, 667, 753, 43, 422, 13, 566, 55, 99, 546, 799, 172, 193, 321, 572, 705, 551, 683, 613, 66, 154, 672, 814, 443, 443, 885, 658, 909, 976, 804, 287, 172, 207, 305, 688, 175, 508, 812, 466, 190, 384, 156, 243, 792, 533, 648, 495, 874, 506, 504, 869, 971, 219, 70, 678, 663, 127, 155, 188, 513, 78, 298, 612, 510, 574, 409, 756, 213, 424, 974, 233, 753, 872, 789, 148, 729]\n"
     ]
    }
   ],
   "source": [
    "random_numbers = [random.randint(1, 1000) for _ in range(100)]\n",
    "print(\"Original List:\")\n",
    "print(random_numbers)"
   ]
  },
  {
   "cell_type": "code",
   "execution_count": 11,
   "id": "4358cefb-5f4a-421a-8936-df7ec6ce1450",
   "metadata": {},
   "outputs": [],
   "source": [
    "numbers_rdd = sc.parallelize(random_numbers)"
   ]
  },
  {
   "cell_type": "code",
   "execution_count": 12,
   "id": "bc65a642-226d-462f-87df-1a02a4766e9b",
   "metadata": {},
   "outputs": [],
   "source": [
    "even_numbers_rdd = numbers_rdd.filter(lambda x: x % 2 == 0)"
   ]
  },
  {
   "cell_type": "code",
   "execution_count": 13,
   "id": "52b13188-f44d-47b6-aa7c-54d7adadfd37",
   "metadata": {},
   "outputs": [
    {
     "name": "stdout",
     "output_type": "stream",
     "text": [
      "\n",
      "Even Numbers:\n",
      "[730, 962, 794, 558, 350, 824, 86, 746, 364, 210, 824, 498, 758, 422, 566, 546, 172, 572, 66, 154, 672, 814, 658, 976, 804, 172, 688, 508, 812, 466, 190, 384, 156, 792, 648, 874, 506, 504, 70, 678, 188, 78, 298, 612, 510, 574, 756, 424, 974, 872, 148]\n"
     ]
    }
   ],
   "source": [
    "even_numbers = even_numbers_rdd.collect()\n",
    "\n",
    "print(\"\\nEven Numbers:\")\n",
    "print(even_numbers)"
   ]
  },
  {
   "cell_type": "code",
   "execution_count": null,
   "id": "02ed62f2-41fb-4cc7-83d5-6752b1a560ae",
   "metadata": {},
   "outputs": [],
   "source": []
  }
 ],
 "metadata": {
  "kernelspec": {
   "display_name": "Python 3 (ipykernel)",
   "language": "python",
   "name": "python3"
  },
  "language_info": {
   "codemirror_mode": {
    "name": "ipython",
    "version": 3
   },
   "file_extension": ".py",
   "mimetype": "text/x-python",
   "name": "python",
   "nbconvert_exporter": "python",
   "pygments_lexer": "ipython3",
   "version": "3.11.9"
  }
 },
 "nbformat": 4,
 "nbformat_minor": 5
}
